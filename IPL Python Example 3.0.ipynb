{
 "cells": [
  {
   "cell_type": "code",
   "execution_count": 10,
   "metadata": {},
   "outputs": [],
   "source": [
    "# Please use python 3.0 for this code\n",
    "\n",
    "import matplotlib.pyplot as plt\n",
    "import numpy as np\n",
    "import pandas as pd\n",
    "import math\n",
    "#from matplotlib import pyplot as plt\n",
    "\n",
    "\n",
    "df = pd.read_csv('foam_1click_10min_clamp.csv')\n",
    "I = df.Time\n",
    "h = df.Height\n",
    "\n",
    "\n",
    "#v_error = df.VUncertainty #If you have systematic uncertainties use this to add them. \n",
    "#I_error = df.IUncertainty\n"
   ]
  },
  {
   "cell_type": "code",
   "execution_count": 11,
   "metadata": {},
   "outputs": [],
   "source": [
    "##   Significant Figures Check in \n",
    "\n",
    "# What are the significant figures on these functions below? \n",
    "\n",
    "a = 1.2*0.0000403\n",
    "\n",
    "b = 100/(58**2)\n",
    "\n",
    "c = (1/2) * math.pi\n",
    "\n",
    "d = a/c**3\n",
    "\n"
   ]
  },
  {
   "cell_type": "code",
   "execution_count": 14,
   "metadata": {},
   "outputs": [],
   "source": [
    "## Standard Deviation\n",
    "\n",
    "i_std = np.std(I)\n",
    "\n",
    "np.std(df) #Why does this work in python but not in matlab?\n",
    "\n",
    "i_mean = np.mean(I)\n",
    "\n",
    "# How do you add a print statement here? \n",
    "\n",
    "i_stdError = i_std / np.sqrt(i_mean)"
   ]
  },
  {
   "cell_type": "code",
   "execution_count": 9,
   "metadata": {},
   "outputs": [
    {
     "name": "stdout",
     "output_type": "stream",
     "text": [
      "The slope is:  -0.025725062349055687 so the equation of this line is V =  -0.025725062349055687 *I +  30.42096701335826\n"
     ]
    },
    {
     "data": {
      "image/png": "[encoded data removed]",
      "text/plain": [
       "<Figure size 432x288 with 1 Axes>"
      ]
     },
     "metadata": {
      "needs_background": "light"
     },
     "output_type": "display_data"
    },
    {
     "data": {
      "text/plain": [
       "<Figure size 432x288 with 0 Axes>"
      ]
     },
     "metadata": {},
     "output_type": "display_data"
    }
   ],
   "source": [
    "\n",
    "#This code will plot the graph with error bars and a linear fit. \n",
    "#plt.savefig('Resistor.jpg')\n",
    "m, b = np.polyfit(I,h,1) #If linear looks like it's the line that fits best\n",
    "f = plt.plot(I, m*I + b)\n",
    "\n",
    "plt.errorbar(I, h, fmt='o')\n",
    "plt.ylabel('Height(cm))')\n",
    "plt.xlabel('Time (s)')\n",
    "plt.title('Voltage vs Current of a 10 Ohms Resistor')\n",
    "print('The slope is: ',m, 'so the equation of this line is V = ',m,'*I + ',b)\n",
    "\n",
    "plt.show()\n",
    "plt.savefig(\"resistor.jpg\", bbox_inches='tight', dpi=150, )\n",
    "plt.show()"
   ]
  },
  {
   "cell_type": "code",
   "execution_count": 11,
   "metadata": {},
   "outputs": [
    {
     "data": {
      "text/plain": [
       "(array([13., 21., 13., 16.,  5.,  7.,  8.,  1.,  2.,  2.]),\n",
       " array([10.007 , 13.7246, 17.4422, 21.1598, 24.8774, 28.595 , 32.3126,\n",
       "        36.0302, 39.7478, 43.4654, 47.183 ]),\n",
       " <a list of 10 Patch objects>)"
      ]
     },
     "execution_count": 11,
     "metadata": {},
     "output_type": "execute_result"
    },
    {
     "data": {
      "image/png": "[encoded data removed]",
      "text/plain": [
       "<Figure size 432x288 with 1 Axes>"
      ]
     },
     "metadata": {
      "needs_background": "light"
     },
     "output_type": "display_data"
    }
   ],
   "source": [
    "plt.hist(h)"
   ]
  },
  {
   "cell_type": "code",
   "execution_count": 32,
   "metadata": {},
   "outputs": [],
   "source": [
    "\"\"\"\n",
    "Created on Sun Apr 11 21:12:08 2021\n",
    "\n",
    "Propogates the error from the omega of the dampening force\n",
    "\n",
    "@author: Charlie Tribble\n",
    "\"\"\"\n",
    "\n",
    "\n",
    "from sympy import *\n",
    "\n",
    "r, l, c = symbols('r l c')\n",
    "\n",
    "r_val = 10.0         # resistance\n",
    "l_val = 1e-3        # inductance\n",
    "c_val = 3e-6        # capacitance\n",
    "\n",
    "r_error = r_val * 0.05     # uncertainty of resistance\n",
    "l_error = l_val * 0.10     # uncertainty of inductance\n",
    "c_error = c_val * 0.10     # uncertainty of capacitance\n"
   ]
  },
  {
   "cell_type": "code",
   "execution_count": 33,
   "metadata": {},
   "outputs": [
    {
     "name": "stdout",
     "output_type": "stream",
     "text": [
      "Gamma Uncertiainty: 1118.03398874989\n",
      "Omega Uncertainty: 1247.74571502745\n"
     ]
    }
   ],
   "source": [
    "gamma = r/l\n",
    "omega = sqrt(1/(l * c) - (r ** 2)/(4 * (l ** 2)))    # eq for omega of the damping force\n",
    "\n",
    "partial_gr = diff(gamma, r)      # partial derivative of gamma with respect to r\n",
    "partial_gl = diff(gamma, l)      # partial derivative of gamma with respect to l\n",
    "\n",
    "gamma_error = ((partial_gr.evalf(subs={r: r_val, l: l_val, c: c_val}) * r_error) ** 2 \\\n",
    "             + (partial_gl.evalf(subs={r: r_val, l: l_val, c: c_val}) * l_error) ** 2) ** 0.5\n",
    "\n",
    "partial_or = diff(omega, r)      # partial derivative of omega with respect to r\n",
    "partial_ol = diff(omega, l)      # partial derivative of omega with respect to l\n",
    "partial_oc = diff(omega, c)      # partial derivative of omega with respect to c\n",
    "\n",
    "omega_error = ((partial_or.evalf(subs={r: r_val, l: l_val, c: c_val}) * r_error) ** 2 \\\n",
    "             + (partial_ol.evalf(subs={r: r_val, l: l_val, c: c_val}) * l_error) ** 2 \\\n",
    "             + (partial_oc.evalf(subs={r: r_val, l: l_val, c: c_val}) * c_error) ** 2) ** 0.5\n",
    "    \n",
    "print(\"Gamma Uncertiainty: {0}\\nOmega Uncertainty: {1}\".format(gamma_error, omega_error))\n"
   ]
  },
  {
   "cell_type": "code",
   "execution_count": null,
   "metadata": {},
   "outputs": [],
   "source": []
  }
 ],
 "metadata": {
  "kernelspec": {
   "display_name": "Python 3",
   "language": "python",
   "name": "python3"
  },
  "language_info": {
   "codemirror_mode": {
    "name": "ipython",
    "version": 3
   },
   "file_extension": ".py",
   "mimetype": "text/x-python",
   "name": "python",
   "nbconvert_exporter": "python",
   "pygments_lexer": "ipython3",
   "version": "3.7.0"
  }
 },
 "nbformat": 4,
 "nbformat_minor": 2
}
